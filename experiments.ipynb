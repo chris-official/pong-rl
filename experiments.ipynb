{
 "cells": [
  {
   "metadata": {},
   "cell_type": "markdown",
   "source": "# Create Labeled Dataset",
   "id": "191c248c0d60bfa9"
  },
  {
   "metadata": {},
   "cell_type": "code",
   "outputs": [],
   "execution_count": 29,
   "source": [
    "import torch\n",
    "import numpy as np\n",
    "import lightning as L\n",
    "import gymnasium as gym\n",
    "\n",
    "from collections import OrderedDict\n",
    "from stable_baselines3 import PPO\n",
    "from stable_baselines3.common.env_util import make_atari_env\n",
    "from torch.utils.data import DataLoader\n",
    "from torch.optim.lr_scheduler import OneCycleLR\n",
    "from lightning.fabric.loggers import TensorBoardLogger\n",
    "\n",
    "import utils\n",
    "from dataset import PongDataset, StaticImageDataset\n",
    "from supervised import PolicyNetwork, SaveBestModel, train"
   ],
   "id": "e04d692aefd2da4c"
  },
  {
   "metadata": {
    "ExecuteTime": {
     "end_time": "2024-11-07T13:34:34.348512Z",
     "start_time": "2024-11-07T13:34:27.110355Z"
    }
   },
   "cell_type": "code",
   "source": "dataset = PongDataset(epsilon=0.05, sigma=0.2)",
   "id": "a7c3c6f1f8806997",
   "outputs": [],
   "execution_count": 1
  },
  {
   "metadata": {},
   "cell_type": "code",
   "outputs": [
    {
     "data": {
      "text/plain": [
       "(torch.Size([100000, 1, 84, 84]), torch.Size([100000, 6]))"
      ]
     },
     "execution_count": 94,
     "metadata": {},
     "output_type": "execute_result"
    }
   ],
   "execution_count": 94,
   "source": [
    "n = 100_000  # number of samples to collect\n",
    "output_samples = torch.zeros(n, 1, 84, 84, dtype=torch.float32)\n",
    "output_labels = torch.zeros(n, 6, dtype=torch.float32)\n",
    "\n",
    "for i in range(n):\n",
    "    sample, label = dataset[i]\n",
    "    output_samples[i] = sample\n",
    "    output_labels[i] = label\n",
    "    \n",
    "output_samples.shape, output_labels.shape"
   ],
   "id": "ac3a351abba36853"
  },
  {
   "metadata": {},
   "cell_type": "code",
   "outputs": [],
   "execution_count": 8,
   "source": "torch.save({\"X\": output_samples, \"y\": output_labels}, \"datasets/Xy_train_model.pt\")",
   "id": "db169a28ad6aa604"
  },
  {
   "metadata": {},
   "cell_type": "markdown",
   "source": "# Supervised Pre-Training",
   "id": "bbb7f5d09bbd5dfa"
  },
  {
   "metadata": {
    "ExecuteTime": {
     "end_time": "2024-09-22T09:22:23.542820Z",
     "start_time": "2024-09-22T09:22:23.537309Z"
    }
   },
   "cell_type": "code",
   "source": [
    "# Settings\n",
    "num_epochs = 10\n",
    "lr = 1e-3\n",
    "pct_start = 0.2\n",
    "batch_size = 512\n",
    "framestack = 1\n",
    "log_interval = 20\n",
    "log_dir = \"logs\"\n",
    "model_dir = \"models\"\n",
    "name = \"supervised_pretraining\"\n",
    "seed = 0\n",
    "accelerator = \"cuda\"\n",
    "precision = \"32-true\"\n",
    "features_dim = 512\n",
    "num_classes = 6\n",
    "label_smoothing = 0.\n",
    "weight_decay = 1e-4"
   ],
   "id": "94d3bc3c45a3d565",
   "outputs": [],
   "execution_count": 8
  },
  {
   "metadata": {
    "ExecuteTime": {
     "end_time": "2024-09-22T09:22:31.127373Z",
     "start_time": "2024-09-22T09:22:31.090893Z"
    }
   },
   "cell_type": "code",
   "source": [
    "# Setup logger\n",
    "tb_logger = TensorBoardLogger(root_dir=log_dir, name=name)\n",
    "\n",
    "# Add custom callback\n",
    "save_best_model = SaveBestModel(model_dir)\n",
    "\n",
    "# Configure Fabric\n",
    "fabric = L.Fabric(\n",
    "    accelerator=accelerator,\n",
    "    precision=precision,\n",
    "    callbacks=[save_best_model],\n",
    "    loggers=[tb_logger]\n",
    ")\n",
    "\n",
    "# Set seed\n",
    "fabric.seed_everything(seed)"
   ],
   "id": "c9ee7fff06304e4d",
   "outputs": [
    {
     "name": "stderr",
     "output_type": "stream",
     "text": [
      "Seed set to 0\n"
     ]
    },
    {
     "data": {
      "text/plain": [
       "0"
      ]
     },
     "execution_count": 10,
     "metadata": {},
     "output_type": "execute_result"
    }
   ],
   "execution_count": 10
  },
  {
   "metadata": {
    "ExecuteTime": {
     "end_time": "2024-09-22T09:22:40.623697Z",
     "start_time": "2024-09-22T09:22:39.256737Z"
    }
   },
   "cell_type": "code",
   "source": [
    "# Create model and optimizer\n",
    "obs_space = gym.spaces.Box(low=0, high=1, shape=(framestack, 84, 84), dtype=np.float32)\n",
    "with fabric.init_module():\n",
    "    model = PolicyNetwork(obs_space, features_dim=features_dim, normalized_image=True, out_classes=num_classes)\n",
    "optimizer = torch.optim.AdamW(model.parameters(), lr=lr, weight_decay=weight_decay)\n",
    "\n",
    "# Load dataset\n",
    "loaded = torch.load(\"datasets/Xy_train_model.pt\")\n",
    "images_tensor, labels_tensor = loaded[\"X\"], loaded[\"y\"]\n",
    "\n",
    "# Create dataloader\n",
    "dataset = StaticImageDataset(images_tensor, labels_tensor)\n",
    "dataloader = DataLoader(dataset, batch_size=batch_size, shuffle=True)\n",
    "\n",
    "scheduler = OneCycleLR(optimizer, max_lr=lr, steps_per_epoch=len(dataloader), epochs=num_epochs, pct_start=pct_start, div_factor=25, final_div_factor=1)\n",
    "\n",
    "torch.set_float32_matmul_precision(\"high\")\n",
    "\n",
    "# Set up objects\n",
    "model, optimizer = fabric.setup(model, optimizer)\n",
    "dataloader = fabric.setup_dataloaders(dataloader)"
   ],
   "id": "e843e1908f66b99c",
   "outputs": [],
   "execution_count": 11
  },
  {
   "metadata": {
    "ExecuteTime": {
     "end_time": "2024-09-22T09:23:10.303791Z",
     "start_time": "2024-09-22T09:22:44.433874Z"
    }
   },
   "cell_type": "code",
   "source": [
    "# Run training loop\n",
    "train(fabric, model, optimizer, scheduler, dataloader, num_epochs, log_interval, num_classes, label_smoothing)"
   ],
   "id": "70e5939c8e051edc",
   "outputs": [
    {
     "name": "stdout",
     "output_type": "stream",
     "text": [
      "Epoch 1/10 completed.\n",
      "Epoch 2/10 completed.\n",
      "Epoch 3/10 completed.\n",
      "Epoch 4/10 completed.\n",
      "Epoch 5/10 completed.\n",
      "Epoch 6/10 completed.\n",
      "Epoch 7/10 completed.\n",
      "Epoch 8/10 completed.\n",
      "Epoch 9/10 completed.\n",
      "Epoch 10/10 completed.\n"
     ]
    }
   ],
   "execution_count": 12
  },
  {
   "metadata": {},
   "cell_type": "markdown",
   "source": "# Initialize RL Agent with Pre-Trained Weights",
   "id": "5a4b1d759131cc3a"
  },
  {
   "metadata": {
    "ExecuteTime": {
     "end_time": "2024-10-05T13:06:42.656848Z",
     "start_time": "2024-10-05T13:06:40.984539Z"
    }
   },
   "cell_type": "code",
   "source": "vec_env = make_atari_env(env_id=\"PongNoFrameskip-v4\", n_envs=16, seed=1)",
   "id": "54cadd62f7272ef9",
   "outputs": [],
   "execution_count": 2
  },
  {
   "metadata": {
    "ExecuteTime": {
     "end_time": "2024-10-05T13:06:45.136779Z",
     "start_time": "2024-10-05T13:06:45.121356Z"
    }
   },
   "cell_type": "code",
   "source": [
    "model = PPO(\n",
    "    \"CnnPolicy\",\n",
    "    vec_env,\n",
    "    learning_rate=2.5e-4, #\n",
    "    n_steps=128, #\n",
    "    batch_size=256, #\n",
    "    n_epochs=3, #\n",
    "    gamma=0.99,\n",
    "    gae_lambda=0.95,\n",
    "    clip_range=0.2,\n",
    "    clip_range_vf=None,\n",
    "    normalize_advantage=True,\n",
    "    ent_coef=0.01, #\n",
    "    vf_coef=0.5,\n",
    "    max_grad_norm=0.5,\n",
    "    tensorboard_log=\"sl/logs/\",\n",
    "    policy_kwargs=dict(features_extractor_kwargs={\"features_dim\": 512}),\n",
    "    device=\"cuda\",\n",
    "    seed=1,\n",
    ")\n",
    "\n",
    "utils.print_model_parameters(model, shared_extractor=True)"
   ],
   "id": "fd3abea71f31f708",
   "outputs": [
    {
     "name": "stdout",
     "output_type": "stream",
     "text": [
      "features_extractor: 1,677,984\n",
      "pi_features_extractor: 1,677,984\n",
      "vf_features_extractor: 1,677,984\n",
      "mlp_extractor: 0\n",
      "action_net: 3,078\n",
      "value_net: 513\n",
      "Total number of parameters: 1,681,575\n"
     ]
    }
   ],
   "execution_count": 4
  },
  {
   "metadata": {
    "ExecuteTime": {
     "end_time": "2024-10-05T13:07:34.180452Z",
     "start_time": "2024-10-05T13:07:34.115566Z"
    }
   },
   "cell_type": "code",
   "source": [
    "# load supervised model\n",
    "fabric = L.Fabric(accelerator=\"cuda\", precision=\"32-true\")\n",
    "full_checkpoint = fabric.load(\"models/final_checkpoint_step=3920_loss=0.7992.ckpt\")"
   ],
   "id": "69bb94e0cd6e473f",
   "outputs": [],
   "execution_count": 5
  },
  {
   "metadata": {
    "ExecuteTime": {
     "end_time": "2024-10-05T13:07:44.014469Z",
     "start_time": "2024-10-05T13:07:43.998576Z"
    }
   },
   "cell_type": "code",
   "source": [
    "# rename keys so pytorch can match all parameters\n",
    "feature_extractor_params = OrderedDict()  # shared feature extractor\n",
    "action_net_params = OrderedDict()  # action network\n",
    "\n",
    "for key, value in full_checkpoint[\"model\"].items():\n",
    "    if key in ['action_net.weight', 'action_net.bias']:\n",
    "        key = key.replace(\"action_net.\", \"\")\n",
    "        action_net_params[key] = value\n",
    "    else:\n",
    "        feature_extractor_params[key] = value\n",
    "        \n",
    "feature_extractor_params.keys(), action_net_params.keys()"
   ],
   "id": "afbb7d4be2baa0cd",
   "outputs": [
    {
     "data": {
      "text/plain": [
       "(odict_keys(['cnn.0.weight', 'cnn.0.bias', 'cnn.2.weight', 'cnn.2.bias', 'cnn.4.weight', 'cnn.4.bias', 'linear.0.weight', 'linear.0.bias']),\n",
       " odict_keys(['weight', 'bias']))"
      ]
     },
     "execution_count": 7,
     "metadata": {},
     "output_type": "execute_result"
    }
   ],
   "execution_count": 7
  },
  {
   "metadata": {
    "ExecuteTime": {
     "end_time": "2024-10-05T13:08:18.699893Z",
     "start_time": "2024-10-05T13:08:18.684081Z"
    }
   },
   "cell_type": "code",
   "source": [
    "# load feature extractor parameters\n",
    "model.policy.pi_features_extractor.load_state_dict(feature_extractor_params)"
   ],
   "id": "d5ff06b7ac44c473",
   "outputs": [
    {
     "data": {
      "text/plain": [
       "<All keys matched successfully>"
      ]
     },
     "execution_count": 8,
     "metadata": {},
     "output_type": "execute_result"
    }
   ],
   "execution_count": 8
  },
  {
   "metadata": {
    "ExecuteTime": {
     "end_time": "2024-10-05T13:08:20.903315Z",
     "start_time": "2024-10-05T13:08:20.898802Z"
    }
   },
   "cell_type": "code",
   "source": [
    "# load action network parameters\n",
    "model.policy.action_net.load_state_dict(action_net_params)"
   ],
   "id": "a128a13229ae5311",
   "outputs": [
    {
     "data": {
      "text/plain": [
       "<All keys matched successfully>"
      ]
     },
     "execution_count": 9,
     "metadata": {},
     "output_type": "execute_result"
    }
   ],
   "execution_count": 9
  },
  {
   "metadata": {
    "ExecuteTime": {
     "end_time": "2024-10-05T13:08:44.759257Z",
     "start_time": "2024-10-05T13:08:44.729199Z"
    }
   },
   "cell_type": "code",
   "source": "model.save(\"ppo_nature_cnn_pretrained\")",
   "id": "aae01f3b97b6f551",
   "outputs": [],
   "execution_count": 10
  },
  {
   "metadata": {},
   "cell_type": "markdown",
   "source": "# RL Finetuning",
   "id": "2d6f6238f6312e4d"
  },
  {
   "metadata": {
    "ExecuteTime": {
     "end_time": "2024-09-22T09:36:11.032621Z",
     "start_time": "2024-09-22T09:36:09.151458Z"
    }
   },
   "cell_type": "code",
   "source": "vec_env = make_atari_env(env_id=\"PongNoFrameskip-v4\", n_envs=16, seed=1)",
   "id": "deba40073ca09f66",
   "outputs": [],
   "execution_count": 2
  },
  {
   "metadata": {
    "ExecuteTime": {
     "end_time": "2024-09-22T09:36:22.394276Z",
     "start_time": "2024-09-22T09:36:20.526800Z"
    }
   },
   "cell_type": "code",
   "source": "model = PPO.load(\"ppo_nature_cnn_pretrained\", env=vec_env, device=\"cuda\")",
   "id": "467eb4b38bc0b083",
   "outputs": [],
   "execution_count": 3
  },
  {
   "metadata": {
    "ExecuteTime": {
     "end_time": "2024-09-22T09:38:13.404916Z",
     "start_time": "2024-09-22T09:37:29.271441Z"
    }
   },
   "cell_type": "code",
   "source": [
    "# evaluate pre-trained model\n",
    "mean_reward, std_reward = utils.evaluate(model, vec_env, episodes=16, deterministic=False)"
   ],
   "id": "7790fbff4c3f5e2c",
   "outputs": [
    {
     "name": "stdout",
     "output_type": "stream",
     "text": [
      "Mean reward: 11.31 +/- 4.87\n"
     ]
    }
   ],
   "execution_count": 6
  },
  {
   "metadata": {
    "ExecuteTime": {
     "end_time": "2024-09-22T10:04:01.857506Z",
     "start_time": "2024-09-22T09:45:35.060091Z"
    }
   },
   "cell_type": "code",
   "source": [
    "# finetune for 1.5M steps\n",
    "model.learn(total_timesteps=1_500_000, tb_log_name=\"ppo_nature_cnn_pretrained\", reset_num_timesteps=True)"
   ],
   "id": "27e19982f6bf22b3",
   "outputs": [
    {
     "data": {
      "text/plain": [
       "<stable_baselines3.ppo.ppo.PPO at 0x1d62e83ffa0>"
      ]
     },
     "execution_count": 7,
     "metadata": {},
     "output_type": "execute_result"
    }
   ],
   "execution_count": 7
  },
  {
   "metadata": {
    "ExecuteTime": {
     "end_time": "2024-09-22T10:13:21.815709Z",
     "start_time": "2024-09-22T10:13:21.759524Z"
    }
   },
   "cell_type": "code",
   "source": [
    "# save finetuned model\n",
    "model.save(\"ppo_nature_cnn_finetuned\")"
   ],
   "id": "9e326773cd1bdb6f",
   "outputs": [],
   "execution_count": 9
  },
  {
   "metadata": {},
   "cell_type": "code",
   "outputs": [],
   "execution_count": null,
   "source": [
    "# load finetuned model\n",
    "model = PPO.load(\"ppo_nature_cnn_finetuned\")"
   ],
   "id": "8904711a70008e6a"
  },
  {
   "metadata": {
    "ExecuteTime": {
     "end_time": "2024-09-22T10:14:21.271453Z",
     "start_time": "2024-09-22T10:13:54.980621Z"
    }
   },
   "cell_type": "code",
   "source": [
    "# evaluate 1.5M finetuned model\n",
    "mean_reward, std_reward = utils.evaluate(model, vec_env, episodes=16, deterministic=False)"
   ],
   "id": "d709b06087db9ea",
   "outputs": [
    {
     "name": "stdout",
     "output_type": "stream",
     "text": [
      "Mean reward: 19.88 +/- 1.62\n"
     ]
    }
   ],
   "execution_count": 11
  },
  {
   "metadata": {},
   "cell_type": "markdown",
   "source": "## Additional finetuning",
   "id": "3962faf162cd6c22"
  },
  {
   "metadata": {
    "ExecuteTime": {
     "end_time": "2024-09-22T11:17:32.213591Z",
     "start_time": "2024-09-22T11:08:30.553547Z"
    }
   },
   "cell_type": "code",
   "source": [
    "# finetune for another 500k steps\n",
    "model.learn(total_timesteps=500_000, tb_log_name=\"ppo_nature_cnn_pretrained\", reset_num_timesteps=False)"
   ],
   "id": "3f25189152f7314a",
   "outputs": [
    {
     "data": {
      "text/plain": [
       "<stable_baselines3.ppo.ppo.PPO at 0x1d62e83ffa0>"
      ]
     },
     "execution_count": 15,
     "metadata": {},
     "output_type": "execute_result"
    }
   ],
   "execution_count": 15
  },
  {
   "metadata": {
    "ExecuteTime": {
     "end_time": "2024-09-22T11:19:00.814300Z",
     "start_time": "2024-09-22T11:19:00.752961Z"
    }
   },
   "cell_type": "code",
   "source": "model.save(\"ppo_nature_cnn_finetuned_2M\")",
   "id": "79c0b7999b92896c",
   "outputs": [],
   "execution_count": 18
  },
  {
   "metadata": {
    "ExecuteTime": {
     "end_time": "2024-09-22T11:19:00.751453Z",
     "start_time": "2024-09-22T11:18:38.615301Z"
    }
   },
   "cell_type": "code",
   "source": [
    "# evaluate 2M finetuned model\n",
    "mean_reward, std_reward = utils.evaluate(model, vec_env, episodes=16, deterministic=False)"
   ],
   "id": "99c70b2219c41e3c",
   "outputs": [
    {
     "name": "stdout",
     "output_type": "stream",
     "text": [
      "Mean reward: 20.62 +/- 0.48\n"
     ]
    }
   ],
   "execution_count": 17
  },
  {
   "metadata": {},
   "cell_type": "markdown",
   "source": "# RL Training from Scratch",
   "id": "a16fe60755320c03"
  },
  {
   "metadata": {},
   "cell_type": "code",
   "outputs": [],
   "execution_count": 2,
   "source": "vec_env = make_atari_env(env_id=\"PongNoFrameskip-v4\", n_envs=16, seed=1)",
   "id": "95ed4831ed23d3ae"
  },
  {
   "metadata": {},
   "cell_type": "code",
   "outputs": [
    {
     "name": "stdout",
     "output_type": "stream",
     "text": [
      "features_extractor: 1,677,984\n",
      "pi_features_extractor: 1,677,984\n",
      "vf_features_extractor: 1,677,984\n",
      "mlp_extractor: 0\n",
      "action_net: 3,078\n",
      "value_net: 513\n",
      "Total number of parameters: 1,681,575\n"
     ]
    }
   ],
   "execution_count": 5,
   "source": [
    "model = PPO(\n",
    "    \"CnnPolicy\",\n",
    "    vec_env,\n",
    "    learning_rate=2.5e-4,\n",
    "    n_steps=128,\n",
    "    batch_size=256,\n",
    "    n_epochs=3,\n",
    "    gamma=0.99,\n",
    "    gae_lambda=0.95,\n",
    "    clip_range=0.2,\n",
    "    clip_range_vf=None,\n",
    "    normalize_advantage=True,\n",
    "    ent_coef=0.01,\n",
    "    vf_coef=0.5,\n",
    "    max_grad_norm=0.5,\n",
    "    tensorboard_log=\"/logs/ppo/\",\n",
    "    policy_kwargs=dict(features_extractor_kwargs={\"features_dim\": 512}),\n",
    "    device=\"cuda\",\n",
    "    seed=1,\n",
    ")\n",
    "\n",
    "utils.print_model_parameters(model, shared_extractor=True)"
   ],
   "id": "7662fe7957dcd986"
  },
  {
   "metadata": {},
   "cell_type": "code",
   "outputs": [
    {
     "data": {
      "text/plain": [
       "<stable_baselines3.ppo.ppo.PPO at 0x22e17896ad0>"
      ]
     },
     "execution_count": 6,
     "metadata": {},
     "output_type": "execute_result"
    }
   ],
   "execution_count": 6,
   "source": "model.learn(total_timesteps=5_000_000, tb_log_name=\"ppo_nature_cnn_rl\", reset_num_timesteps=True)",
   "id": "d186ebccf47eb8c0"
  },
  {
   "metadata": {},
   "cell_type": "code",
   "outputs": [],
   "execution_count": 7,
   "source": "model.save(\"/models/ppo/ppo_nature_cnn_rl\")",
   "id": "2df539266a426588"
  },
  {
   "metadata": {},
   "cell_type": "code",
   "outputs": [],
   "execution_count": 8,
   "source": "model = PPO.load(\"/models/ppo/ppo_nature_cnn_rl\")",
   "id": "edc4406ac691b254"
  },
  {
   "metadata": {},
   "cell_type": "code",
   "outputs": [
    {
     "name": "stdout",
     "output_type": "stream",
     "text": [
      "Mean reward: 20.50 +/- 0.50\n"
     ]
    }
   ],
   "execution_count": 10,
   "source": "mean_reward, std_reward = utils.evaluate(model, vec_env, episodes=16, deterministic=False)",
   "id": "a59487121d9c739f"
  }
 ],
 "metadata": {
  "kernelspec": {
   "display_name": "Python 3",
   "language": "python",
   "name": "python3"
  },
  "language_info": {
   "codemirror_mode": {
    "name": "ipython",
    "version": 2
   },
   "file_extension": ".py",
   "mimetype": "text/x-python",
   "name": "python",
   "nbconvert_exporter": "python",
   "pygments_lexer": "ipython2",
   "version": "2.7.6"
  }
 },
 "nbformat": 4,
 "nbformat_minor": 5
}
