{
 "cells": [
  {
   "cell_type": "code",
   "id": "initial_id",
   "metadata": {
    "collapsed": true,
    "ExecuteTime": {
     "end_time": "2024-08-11T13:32:04.009615Z",
     "start_time": "2024-08-11T13:31:59.324373Z"
    }
   },
   "source": [
    "import utils\n",
    "import rl\n",
    "from stable_baselines3.common.env_util import make_atari_env\n",
    "from stable_baselines3.common.utils import get_linear_fn\n",
    "from stable_baselines3 import PPO"
   ],
   "outputs": [],
   "execution_count": 1
  },
  {
   "metadata": {
    "ExecuteTime": {
     "end_time": "2024-08-11T13:32:05.359967Z",
     "start_time": "2024-08-11T13:32:04.011564Z"
    }
   },
   "cell_type": "code",
   "source": "vec_env = make_atari_env(env_id=\"PongNoFrameskip-v4\", n_envs=16, seed=1)",
   "id": "eec13c9755f651a1",
   "outputs": [],
   "execution_count": 2
  },
  {
   "metadata": {
    "ExecuteTime": {
     "end_time": "2024-08-11T13:33:33.391918Z",
     "start_time": "2024-08-11T13:33:33.233836Z"
    }
   },
   "cell_type": "code",
   "source": [
    "lr_schedule = get_linear_fn(2.5e-4, 1.25e-4, 1.0)\n",
    "\n",
    "model = PPO(\n",
    "    \"CnnPolicy\",\n",
    "    vec_env,\n",
    "    learning_rate=lr_schedule, #\n",
    "    n_steps=128, #\n",
    "    batch_size=256, #\n",
    "    n_epochs=3, #\n",
    "    gamma=0.99,\n",
    "    gae_lambda=0.95,\n",
    "    clip_range=0.2,\n",
    "    clip_range_vf=None,\n",
    "    normalize_advantage=True,\n",
    "    ent_coef=0.01, #\n",
    "    vf_coef=0.5,\n",
    "    max_grad_norm=0.5,\n",
    "    tensorboard_log=\"C:/Users/cgoet/PycharmProjects/Pong-RL/logs/ppo/\",\n",
    "    policy_kwargs=dict(features_extractor_kwargs={\"features_dim\": 512}),\n",
    "    device=\"cuda\",\n",
    "    seed=1,\n",
    ")"
   ],
   "id": "62757527951897bf",
   "outputs": [],
   "execution_count": 4
  },
  {
   "metadata": {
    "ExecuteTime": {
     "end_time": "2024-08-11T13:33:39.432915Z",
     "start_time": "2024-08-11T13:33:39.416453Z"
    }
   },
   "cell_type": "code",
   "source": "utils.print_model_parameters(model, shared_extractor=True)",
   "id": "6086359e98ffb705",
   "outputs": [
    {
     "name": "stdout",
     "output_type": "stream",
     "text": [
      "features_extractor: 1,677,984\n",
      "pi_features_extractor: 1,677,984\n",
      "vf_features_extractor: 1,677,984\n",
      "mlp_extractor: 0\n",
      "action_net: 3,078\n",
      "value_net: 513\n",
      "Total number of parameters: 1,681,575\n"
     ]
    }
   ],
   "execution_count": 5
  },
  {
   "metadata": {
    "ExecuteTime": {
     "end_time": "2024-08-11T15:01:27.334566Z",
     "start_time": "2024-08-11T13:34:57.846229Z"
    }
   },
   "cell_type": "code",
   "source": [
    "# tensorboard --logdir=\"C:/Users/cgoet/PycharmProjects/Pong-RL/logs\"\n",
    "model.learn(total_timesteps=5_000_000, tb_log_name=\"ppo_nature_cnn_v1\", reset_num_timesteps=True)"
   ],
   "id": "9b5164e46d06e1d",
   "outputs": [
    {
     "data": {
      "text/plain": [
       "<stable_baselines3.ppo.ppo.PPO at 0x22e17896ad0>"
      ]
     },
     "execution_count": 6,
     "metadata": {},
     "output_type": "execute_result"
    }
   ],
   "execution_count": 6
  },
  {
   "metadata": {
    "ExecuteTime": {
     "end_time": "2024-08-10T15:56:57.990165Z",
     "start_time": "2024-08-10T15:39:54.887898Z"
    }
   },
   "cell_type": "code",
   "source": "# model.learn(total_timesteps=1_000_000, tb_log_name=\"dqn_nature_cnn_v1\", reset_num_timesteps=False)",
   "id": "791db42c7ad5f3ca",
   "outputs": [
    {
     "data": {
      "text/plain": [
       "<stable_baselines3.dqn.dqn.DQN at 0x26073b4d360>"
      ]
     },
     "execution_count": 10,
     "metadata": {},
     "output_type": "execute_result"
    }
   ],
   "execution_count": 10
  },
  {
   "metadata": {
    "ExecuteTime": {
     "end_time": "2024-08-11T15:01:27.413910Z",
     "start_time": "2024-08-11T15:01:27.336073Z"
    }
   },
   "cell_type": "code",
   "source": "model.save(\"C:/Users/cgoet/PycharmProjects/Pong-RL/models/ppo/ppo_nature_cnn_v1_best\")",
   "id": "db6bb81ee48db30",
   "outputs": [],
   "execution_count": 7
  },
  {
   "metadata": {
    "ExecuteTime": {
     "end_time": "2024-08-11T15:01:27.541882Z",
     "start_time": "2024-08-11T15:01:27.414875Z"
    }
   },
   "cell_type": "code",
   "source": "model = PPO.load(\"C:/Users/cgoet/PycharmProjects/Pong-RL/models/ppo/ppo_nature_cnn_v1_best\")",
   "id": "1c60c58324a9980d",
   "outputs": [],
   "execution_count": 8
  },
  {
   "metadata": {
    "ExecuteTime": {
     "end_time": "2024-08-11T15:01:49.558730Z",
     "start_time": "2024-08-11T15:01:27.543882Z"
    }
   },
   "cell_type": "code",
   "source": "mean_reward, std_reward = rl.evaluate(model, vec_env, episodes=16, deterministic=True) # PPO",
   "id": "642760eb8de72acd",
   "outputs": [
    {
     "name": "stdout",
     "output_type": "stream",
     "text": [
      "Mean reward: 20.69 +/- 0.46\n"
     ]
    }
   ],
   "execution_count": 9
  },
  {
   "metadata": {
    "ExecuteTime": {
     "end_time": "2024-08-11T15:02:12.771979Z",
     "start_time": "2024-08-11T15:01:49.559751Z"
    }
   },
   "cell_type": "code",
   "source": "mean_reward, std_reward = rl.evaluate(model, vec_env, episodes=16, deterministic=False) # PPO",
   "id": "98051295dc15bb1b",
   "outputs": [
    {
     "name": "stdout",
     "output_type": "stream",
     "text": [
      "Mean reward: 20.50 +/- 0.50\n"
     ]
    }
   ],
   "execution_count": 10
  }
 ],
 "metadata": {
  "kernelspec": {
   "display_name": "Python 3",
   "language": "python",
   "name": "python3"
  },
  "language_info": {
   "codemirror_mode": {
    "name": "ipython",
    "version": 2
   },
   "file_extension": ".py",
   "mimetype": "text/x-python",
   "name": "python",
   "nbconvert_exporter": "python",
   "pygments_lexer": "ipython2",
   "version": "2.7.6"
  }
 },
 "nbformat": 4,
 "nbformat_minor": 5
}
