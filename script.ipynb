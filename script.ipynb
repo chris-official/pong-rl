{
 "cells": [
  {
   "cell_type": "code",
   "id": "initial_id",
   "metadata": {
    "collapsed": true,
    "ExecuteTime": {
     "end_time": "2024-07-23T08:28:42.415232Z",
     "start_time": "2024-07-23T08:28:36.554433Z"
    }
   },
   "source": [
    "import rl\n",
    "import utils\n",
    "import custom_model\n",
    "from stable_baselines3.common.torch_layers import NatureCNN"
   ],
   "outputs": [],
   "execution_count": 1
  },
  {
   "metadata": {
    "ExecuteTime": {
     "end_time": "2024-07-23T11:23:14.812816Z",
     "start_time": "2024-07-23T11:23:14.419807Z"
    }
   },
   "cell_type": "code",
   "source": [
    "screen_size=42\n",
    "\n",
    "vec_env = rl.setup_vec_env(\n",
    "        n_envs=5,\n",
    "        frame_skip=4,\n",
    "        screen_size=screen_size,\n",
    "        action_repeat_probability=0.0,\n",
    "        frame_stacks=4,\n",
    "        seed=0,\n",
    ")"
   ],
   "id": "95b9545409b67821",
   "outputs": [],
   "execution_count": 27
  },
  {
   "metadata": {
    "ExecuteTime": {
     "end_time": "2024-07-23T08:28:44.661518Z",
     "start_time": "2024-07-23T08:28:43.366975Z"
    }
   },
   "cell_type": "code",
   "source": "model = rl.load(path=\"C:/Users/cgoet/PycharmProjects/Pong-RL/models/ppo_small_v1\", vec_env=vec_env)",
   "id": "3eec73b85b00d8ab",
   "outputs": [],
   "execution_count": 3
  },
  {
   "metadata": {
    "ExecuteTime": {
     "end_time": "2024-07-23T11:23:08.741242Z",
     "start_time": "2024-07-23T11:23:08.721945Z"
    }
   },
   "cell_type": "code",
   "source": [
    "model = rl.setup_model(\n",
    "        vec_env=vec_env,\n",
    "        model_class=NatureCNN,\n",
    "        model_kwargs={\"features_dim\": 256},\n",
    "        device=\"cuda\",\n",
    "        log_dir=\"C:/Users/cgoet/PycharmProjects/Pong-RL/logs/\",\n",
    ")"
   ],
   "id": "dc3bdea532eabff1",
   "outputs": [],
   "execution_count": 25
  },
  {
   "metadata": {
    "ExecuteTime": {
     "end_time": "2024-07-23T08:28:47.684063Z",
     "start_time": "2024-07-23T08:28:47.674966Z"
    }
   },
   "cell_type": "code",
   "source": "utils.print_model_parameters(model)",
   "id": "81bc93e31539ff3e",
   "outputs": [
    {
     "name": "stdout",
     "output_type": "stream",
     "text": [
      "features_extractor: 94,624\n",
      "pi_features_extractor: 94,624\n",
      "vf_features_extractor: 94,624\n",
      "mlp_extractor: 32,896\n",
      "action_net: 390\n",
      "value_net: 65\n",
      "Total number of parameters: 317,223\n"
     ]
    }
   ],
   "execution_count": 4
  },
  {
   "metadata": {},
   "cell_type": "code",
   "outputs": [],
   "execution_count": null,
   "source": "# tensorboard --logdir=\"C:/Users/cgoet/PycharmProjects/Pong-RL/logs\"",
   "id": "1b7767b086f12378"
  },
  {
   "metadata": {
    "ExecuteTime": {
     "end_time": "2024-07-22T13:46:37.287739Z",
     "start_time": "2024-07-22T13:37:05.430115Z"
    }
   },
   "cell_type": "code",
   "source": "model = rl.train(model, steps=120_000, name=\"ppo_large_vec\", new_run=True)  # start new training run",
   "id": "4341498025c8dd8",
   "outputs": [],
   "execution_count": 17
  },
  {
   "metadata": {
    "ExecuteTime": {
     "end_time": "2024-07-23T10:52:48.338876Z",
     "start_time": "2024-07-23T10:08:25.071626Z"
    }
   },
   "cell_type": "code",
   "source": "model = rl.train(model, steps=700_000, name=\"ppo_small\", new_run=False)  # continue training run",
   "id": "41d5053267b33bc1",
   "outputs": [],
   "execution_count": 17
  },
  {
   "metadata": {
    "ExecuteTime": {
     "end_time": "2024-07-23T10:56:53.704088Z",
     "start_time": "2024-07-23T10:56:53.682080Z"
    }
   },
   "cell_type": "code",
   "source": "rl.save(model, path=\"C:/Users/cgoet/PycharmProjects/Pong-RL/models/ppo_small_v1\")",
   "id": "d693b6257c34db96",
   "outputs": [],
   "execution_count": 18
  },
  {
   "metadata": {
    "ExecuteTime": {
     "end_time": "2024-07-23T10:57:24.915128Z",
     "start_time": "2024-07-23T10:57:09.156275Z"
    }
   },
   "cell_type": "code",
   "source": "mean_reward, std_reward = rl.evaluate(model, vec_env, episodes=10, deterministic=False)",
   "id": "57d055fa597bfc40",
   "outputs": [
    {
     "name": "stdout",
     "output_type": "stream",
     "text": [
      "Mean reward: -13.90 +/- 1.51\n"
     ]
    }
   ],
   "execution_count": 19
  },
  {
   "metadata": {
    "ExecuteTime": {
     "end_time": "2024-07-22T13:15:22.280954Z",
     "start_time": "2024-07-22T13:14:20.700459Z"
    }
   },
   "cell_type": "code",
   "source": "rewards = rl.visualize(model=None, screen_size=screen_size, episodes=1)  # random agent",
   "id": "7420b8e48e45ef24",
   "outputs": [
    {
     "name": "stdout",
     "output_type": "stream",
     "text": [
      "Episode 0 reward: -20.0\n",
      "Average reward: -20.0\n"
     ]
    }
   ],
   "execution_count": 14
  },
  {
   "metadata": {
    "ExecuteTime": {
     "end_time": "2024-07-23T08:21:41.755713Z",
     "start_time": "2024-07-23T08:20:46.264225Z"
    }
   },
   "cell_type": "code",
   "source": "rewards = rl.visualize(model, screen_size=screen_size, episodes=1)  # trained agent",
   "id": "a414883037639b30",
   "outputs": [
    {
     "name": "stdout",
     "output_type": "stream",
     "text": [
      "Episode 0 reward: -21.0\n",
      "Average reward: -21.0\n"
     ]
    }
   ],
   "execution_count": 13
  },
  {
   "metadata": {
    "ExecuteTime": {
     "end_time": "2024-07-23T11:00:19.942085Z",
     "start_time": "2024-07-23T10:58:28.414305Z"
    }
   },
   "cell_type": "code",
   "source": [
    "from time import sleep\n",
    "\n",
    "# test model fast\n",
    "test_env = rl.setup_vec_env(\n",
    "        n_envs=1,\n",
    "        frame_skip=4,\n",
    "        screen_size=screen_size,\n",
    "        action_repeat_probability=0.0,\n",
    "        frame_stacks=4,\n",
    "        seed=0,\n",
    ")\n",
    "delay = 1 / 10\n",
    "\n",
    "episodes = 1\n",
    "episode_rewards = []\n",
    "for episode in range(episodes):\n",
    "    # obs shape (n_envs, 84, 84, n_frame_stacks)\n",
    "    obs = test_env.reset()\n",
    "    dones = False\n",
    "    total_reward = 0\n",
    "\n",
    "    while not dones:\n",
    "        action, _states = model.predict(obs, deterministic=False)\n",
    "        obs, reward, dones, info = test_env.step(action)\n",
    "        total_reward += reward[0]\n",
    "        test_env.render(\"human\")\n",
    "        sleep(delay)\n",
    "        \n",
    "    episode_rewards.append(total_reward)\n",
    "    print(f\"Episode {episode} reward: {total_reward}\")"
   ],
   "id": "dd004e0e52fbea0c",
   "outputs": [
    {
     "name": "stderr",
     "output_type": "stream",
     "text": [
      "C:\\Users\\cgoet\\PycharmProjects\\Pong-RL\\.venv\\lib\\site-packages\\gymnasium\\utils\\passive_env_checker.py:335: UserWarning: \u001B[33mWARN: No render fps was declared in the environment (env.metadata['render_fps'] is None or not defined), rendering may occur at inconsistent fps.\u001B[0m\n",
      "  logger.warn(\n"
     ]
    },
    {
     "name": "stdout",
     "output_type": "stream",
     "text": [
      "Episode 0 reward: -15.0\n"
     ]
    }
   ],
   "execution_count": 20
  }
 ],
 "metadata": {
  "kernelspec": {
   "display_name": "Python 3",
   "language": "python",
   "name": "python3"
  },
  "language_info": {
   "codemirror_mode": {
    "name": "ipython",
    "version": 2
   },
   "file_extension": ".py",
   "mimetype": "text/x-python",
   "name": "python",
   "nbconvert_exporter": "python",
   "pygments_lexer": "ipython2",
   "version": "2.7.6"
  }
 },
 "nbformat": 4,
 "nbformat_minor": 5
}
